{
 "cells": [
  {
   "cell_type": "markdown",
   "metadata": {
    "colab_type": "text",
    "id": "fpsJ8d42XWua"
   },
   "source": [
    "<div>\n",
    "<img src=https://www.institutedata.com/wp-content/uploads/2019/10/iod_h_tp_primary_c.svg width=\"300\">\n",
    "</div>"
   ]
  },
  {
   "cell_type": "markdown",
   "metadata": {
    "colab_type": "text",
    "id": "CSHa05-1XWub"
   },
   "source": [
    "# Lab 4.1.2 Linear Regression"
   ]
  },
  {
   "cell_type": "markdown",
   "metadata": {
    "colab_type": "text",
    "id": "lZ0RQEDgXWuc"
   },
   "source": [
    "## Prediction of House Price Using Linear Regression"
   ]
  },
  {
   "cell_type": "markdown",
   "metadata": {
    "colab_type": "text",
    "id": "96_GqGXCXWud"
   },
   "source": [
    "### Data\n",
    "\n",
    "The Sacramento real estate transactions file is a list of 985 real estate transactions in the Sacramento area reported over a five-day period, as reported by the Sacramento Bee."
   ]
  },
  {
   "cell_type": "code",
   "execution_count": 2,
   "metadata": {
    "colab": {},
    "colab_type": "code",
    "id": "l1leeqkAXWug"
   },
   "outputs": [],
   "source": [
    "import pandas as pd\n",
    "import numpy as np\n",
    "import pandas as pd\n",
    "\n",
    "%matplotlib inline"
   ]
  },
  {
   "cell_type": "markdown",
   "metadata": {
    "colab_type": "text",
    "id": "S0zFU75NXWuj"
   },
   "source": [
    "### 1. Explore Data"
   ]
  },
  {
   "cell_type": "markdown",
   "metadata": {
    "colab_type": "text",
    "id": "kaShnXBCXWuk"
   },
   "source": [
    "Perform EDA on this dataset. Find Dependent and Independent Variables to predict house price."
   ]
  },
  {
   "cell_type": "code",
   "execution_count": 3,
   "metadata": {
    "colab": {},
    "colab_type": "code",
    "id": "oj3kd7vqXWul"
   },
   "outputs": [],
   "source": [
    "# Read CSV\n",
    "house_csv = pd.read_csv(\"Sacramento_transactions.csv\")"
   ]
  },
  {
   "cell_type": "code",
   "execution_count": 4,
   "metadata": {},
   "outputs": [
    {
     "data": {
      "text/html": [
       "<div>\n",
       "<style scoped>\n",
       "    .dataframe tbody tr th:only-of-type {\n",
       "        vertical-align: middle;\n",
       "    }\n",
       "\n",
       "    .dataframe tbody tr th {\n",
       "        vertical-align: top;\n",
       "    }\n",
       "\n",
       "    .dataframe thead th {\n",
       "        text-align: right;\n",
       "    }\n",
       "</style>\n",
       "<table border=\"1\" class=\"dataframe\">\n",
       "  <thead>\n",
       "    <tr style=\"text-align: right;\">\n",
       "      <th></th>\n",
       "      <th>street</th>\n",
       "      <th>city</th>\n",
       "      <th>zip</th>\n",
       "      <th>state</th>\n",
       "      <th>beds</th>\n",
       "      <th>baths</th>\n",
       "      <th>sq__ft</th>\n",
       "      <th>type</th>\n",
       "      <th>sale_date</th>\n",
       "      <th>price</th>\n",
       "      <th>latitude</th>\n",
       "      <th>longitude</th>\n",
       "    </tr>\n",
       "  </thead>\n",
       "  <tbody>\n",
       "    <tr>\n",
       "      <th>0</th>\n",
       "      <td>3526 HIGH ST</td>\n",
       "      <td>SACRAMENTO</td>\n",
       "      <td>95838</td>\n",
       "      <td>CA</td>\n",
       "      <td>2</td>\n",
       "      <td>1</td>\n",
       "      <td>836</td>\n",
       "      <td>Residential</td>\n",
       "      <td>Wed May 21 00:00:00 EDT 2008</td>\n",
       "      <td>59222</td>\n",
       "      <td>38.631913</td>\n",
       "      <td>-121.434879</td>\n",
       "    </tr>\n",
       "    <tr>\n",
       "      <th>1</th>\n",
       "      <td>51 OMAHA CT</td>\n",
       "      <td>SACRAMENTO</td>\n",
       "      <td>95823</td>\n",
       "      <td>CA</td>\n",
       "      <td>3</td>\n",
       "      <td>1</td>\n",
       "      <td>1167</td>\n",
       "      <td>Residential</td>\n",
       "      <td>Wed May 21 00:00:00 EDT 2008</td>\n",
       "      <td>68212</td>\n",
       "      <td>38.478902</td>\n",
       "      <td>-121.431028</td>\n",
       "    </tr>\n",
       "    <tr>\n",
       "      <th>2</th>\n",
       "      <td>2796 BRANCH ST</td>\n",
       "      <td>SACRAMENTO</td>\n",
       "      <td>95815</td>\n",
       "      <td>CA</td>\n",
       "      <td>2</td>\n",
       "      <td>1</td>\n",
       "      <td>796</td>\n",
       "      <td>Residential</td>\n",
       "      <td>Wed May 21 00:00:00 EDT 2008</td>\n",
       "      <td>68880</td>\n",
       "      <td>38.618305</td>\n",
       "      <td>-121.443839</td>\n",
       "    </tr>\n",
       "    <tr>\n",
       "      <th>3</th>\n",
       "      <td>2805 JANETTE WAY</td>\n",
       "      <td>SACRAMENTO</td>\n",
       "      <td>95815</td>\n",
       "      <td>CA</td>\n",
       "      <td>2</td>\n",
       "      <td>1</td>\n",
       "      <td>852</td>\n",
       "      <td>Residential</td>\n",
       "      <td>Wed May 21 00:00:00 EDT 2008</td>\n",
       "      <td>69307</td>\n",
       "      <td>38.616835</td>\n",
       "      <td>-121.439146</td>\n",
       "    </tr>\n",
       "    <tr>\n",
       "      <th>4</th>\n",
       "      <td>6001 MCMAHON DR</td>\n",
       "      <td>SACRAMENTO</td>\n",
       "      <td>95824</td>\n",
       "      <td>CA</td>\n",
       "      <td>2</td>\n",
       "      <td>1</td>\n",
       "      <td>797</td>\n",
       "      <td>Residential</td>\n",
       "      <td>Wed May 21 00:00:00 EDT 2008</td>\n",
       "      <td>81900</td>\n",
       "      <td>38.519470</td>\n",
       "      <td>-121.435768</td>\n",
       "    </tr>\n",
       "  </tbody>\n",
       "</table>\n",
       "</div>"
      ],
      "text/plain": [
       "             street        city    zip state  beds  baths  sq__ft  \\\n",
       "0      3526 HIGH ST  SACRAMENTO  95838    CA     2      1     836   \n",
       "1       51 OMAHA CT  SACRAMENTO  95823    CA     3      1    1167   \n",
       "2    2796 BRANCH ST  SACRAMENTO  95815    CA     2      1     796   \n",
       "3  2805 JANETTE WAY  SACRAMENTO  95815    CA     2      1     852   \n",
       "4   6001 MCMAHON DR  SACRAMENTO  95824    CA     2      1     797   \n",
       "\n",
       "          type                     sale_date  price   latitude   longitude  \n",
       "0  Residential  Wed May 21 00:00:00 EDT 2008  59222  38.631913 -121.434879  \n",
       "1  Residential  Wed May 21 00:00:00 EDT 2008  68212  38.478902 -121.431028  \n",
       "2  Residential  Wed May 21 00:00:00 EDT 2008  68880  38.618305 -121.443839  \n",
       "3  Residential  Wed May 21 00:00:00 EDT 2008  69307  38.616835 -121.439146  \n",
       "4  Residential  Wed May 21 00:00:00 EDT 2008  81900  38.519470 -121.435768  "
      ]
     },
     "execution_count": 4,
     "metadata": {},
     "output_type": "execute_result"
    }
   ],
   "source": [
    "house_csv.head()"
   ]
  },
  {
   "cell_type": "code",
   "execution_count": 5,
   "metadata": {},
   "outputs": [
    {
     "name": "stdout",
     "output_type": "stream",
     "text": [
      "<class 'pandas.core.frame.DataFrame'>\n",
      "RangeIndex: 985 entries, 0 to 984\n",
      "Data columns (total 12 columns):\n",
      " #   Column     Non-Null Count  Dtype  \n",
      "---  ------     --------------  -----  \n",
      " 0   street     985 non-null    object \n",
      " 1   city       985 non-null    object \n",
      " 2   zip        985 non-null    int64  \n",
      " 3   state      985 non-null    object \n",
      " 4   beds       985 non-null    int64  \n",
      " 5   baths      985 non-null    int64  \n",
      " 6   sq__ft     985 non-null    int64  \n",
      " 7   type       985 non-null    object \n",
      " 8   sale_date  985 non-null    object \n",
      " 9   price      985 non-null    int64  \n",
      " 10  latitude   985 non-null    float64\n",
      " 11  longitude  985 non-null    float64\n",
      "dtypes: float64(2), int64(5), object(5)\n",
      "memory usage: 92.5+ KB\n"
     ]
    }
   ],
   "source": [
    "house_csv.info()"
   ]
  },
  {
   "cell_type": "code",
   "execution_count": 6,
   "metadata": {},
   "outputs": [
    {
     "data": {
      "text/html": [
       "<div>\n",
       "<style scoped>\n",
       "    .dataframe tbody tr th:only-of-type {\n",
       "        vertical-align: middle;\n",
       "    }\n",
       "\n",
       "    .dataframe tbody tr th {\n",
       "        vertical-align: top;\n",
       "    }\n",
       "\n",
       "    .dataframe thead th {\n",
       "        text-align: right;\n",
       "    }\n",
       "</style>\n",
       "<table border=\"1\" class=\"dataframe\">\n",
       "  <thead>\n",
       "    <tr style=\"text-align: right;\">\n",
       "      <th></th>\n",
       "      <th>street</th>\n",
       "      <th>city</th>\n",
       "      <th>zip</th>\n",
       "      <th>state</th>\n",
       "      <th>beds</th>\n",
       "      <th>baths</th>\n",
       "      <th>sq__ft</th>\n",
       "      <th>type</th>\n",
       "      <th>sale_date</th>\n",
       "      <th>price</th>\n",
       "      <th>latitude</th>\n",
       "      <th>longitude</th>\n",
       "    </tr>\n",
       "  </thead>\n",
       "  <tbody>\n",
       "    <tr>\n",
       "      <th>0</th>\n",
       "      <td>3526 HIGH ST</td>\n",
       "      <td>SACRAMENTO</td>\n",
       "      <td>95838</td>\n",
       "      <td>CA</td>\n",
       "      <td>2</td>\n",
       "      <td>1</td>\n",
       "      <td>836</td>\n",
       "      <td>Residential</td>\n",
       "      <td>Wed May 21 00:00:00 EDT 2008</td>\n",
       "      <td>59222</td>\n",
       "      <td>38.631913</td>\n",
       "      <td>-121.434879</td>\n",
       "    </tr>\n",
       "    <tr>\n",
       "      <th>1</th>\n",
       "      <td>51 OMAHA CT</td>\n",
       "      <td>SACRAMENTO</td>\n",
       "      <td>95823</td>\n",
       "      <td>CA</td>\n",
       "      <td>3</td>\n",
       "      <td>1</td>\n",
       "      <td>1167</td>\n",
       "      <td>Residential</td>\n",
       "      <td>Wed May 21 00:00:00 EDT 2008</td>\n",
       "      <td>68212</td>\n",
       "      <td>38.478902</td>\n",
       "      <td>-121.431028</td>\n",
       "    </tr>\n",
       "    <tr>\n",
       "      <th>2</th>\n",
       "      <td>2796 BRANCH ST</td>\n",
       "      <td>SACRAMENTO</td>\n",
       "      <td>95815</td>\n",
       "      <td>CA</td>\n",
       "      <td>2</td>\n",
       "      <td>1</td>\n",
       "      <td>796</td>\n",
       "      <td>Residential</td>\n",
       "      <td>Wed May 21 00:00:00 EDT 2008</td>\n",
       "      <td>68880</td>\n",
       "      <td>38.618305</td>\n",
       "      <td>-121.443839</td>\n",
       "    </tr>\n",
       "    <tr>\n",
       "      <th>3</th>\n",
       "      <td>2805 JANETTE WAY</td>\n",
       "      <td>SACRAMENTO</td>\n",
       "      <td>95815</td>\n",
       "      <td>CA</td>\n",
       "      <td>2</td>\n",
       "      <td>1</td>\n",
       "      <td>852</td>\n",
       "      <td>Residential</td>\n",
       "      <td>Wed May 21 00:00:00 EDT 2008</td>\n",
       "      <td>69307</td>\n",
       "      <td>38.616835</td>\n",
       "      <td>-121.439146</td>\n",
       "    </tr>\n",
       "    <tr>\n",
       "      <th>4</th>\n",
       "      <td>6001 MCMAHON DR</td>\n",
       "      <td>SACRAMENTO</td>\n",
       "      <td>95824</td>\n",
       "      <td>CA</td>\n",
       "      <td>2</td>\n",
       "      <td>1</td>\n",
       "      <td>797</td>\n",
       "      <td>Residential</td>\n",
       "      <td>Wed May 21 00:00:00 EDT 2008</td>\n",
       "      <td>81900</td>\n",
       "      <td>38.519470</td>\n",
       "      <td>-121.435768</td>\n",
       "    </tr>\n",
       "    <tr>\n",
       "      <th>...</th>\n",
       "      <td>...</td>\n",
       "      <td>...</td>\n",
       "      <td>...</td>\n",
       "      <td>...</td>\n",
       "      <td>...</td>\n",
       "      <td>...</td>\n",
       "      <td>...</td>\n",
       "      <td>...</td>\n",
       "      <td>...</td>\n",
       "      <td>...</td>\n",
       "      <td>...</td>\n",
       "      <td>...</td>\n",
       "    </tr>\n",
       "    <tr>\n",
       "      <th>980</th>\n",
       "      <td>9169 GARLINGTON CT</td>\n",
       "      <td>SACRAMENTO</td>\n",
       "      <td>95829</td>\n",
       "      <td>CA</td>\n",
       "      <td>4</td>\n",
       "      <td>3</td>\n",
       "      <td>2280</td>\n",
       "      <td>Residential</td>\n",
       "      <td>Thu May 15 00:00:00 EDT 2008</td>\n",
       "      <td>232425</td>\n",
       "      <td>38.457679</td>\n",
       "      <td>-121.359620</td>\n",
       "    </tr>\n",
       "    <tr>\n",
       "      <th>981</th>\n",
       "      <td>6932 RUSKUT WAY</td>\n",
       "      <td>SACRAMENTO</td>\n",
       "      <td>95823</td>\n",
       "      <td>CA</td>\n",
       "      <td>3</td>\n",
       "      <td>2</td>\n",
       "      <td>1477</td>\n",
       "      <td>Residential</td>\n",
       "      <td>Thu May 15 00:00:00 EDT 2008</td>\n",
       "      <td>234000</td>\n",
       "      <td>38.499893</td>\n",
       "      <td>-121.458890</td>\n",
       "    </tr>\n",
       "    <tr>\n",
       "      <th>982</th>\n",
       "      <td>7933 DAFFODIL WAY</td>\n",
       "      <td>CITRUS HEIGHTS</td>\n",
       "      <td>95610</td>\n",
       "      <td>CA</td>\n",
       "      <td>3</td>\n",
       "      <td>2</td>\n",
       "      <td>1216</td>\n",
       "      <td>Residential</td>\n",
       "      <td>Thu May 15 00:00:00 EDT 2008</td>\n",
       "      <td>235000</td>\n",
       "      <td>38.708824</td>\n",
       "      <td>-121.256803</td>\n",
       "    </tr>\n",
       "    <tr>\n",
       "      <th>983</th>\n",
       "      <td>8304 RED FOX WAY</td>\n",
       "      <td>ELK GROVE</td>\n",
       "      <td>95758</td>\n",
       "      <td>CA</td>\n",
       "      <td>4</td>\n",
       "      <td>2</td>\n",
       "      <td>1685</td>\n",
       "      <td>Residential</td>\n",
       "      <td>Thu May 15 00:00:00 EDT 2008</td>\n",
       "      <td>235301</td>\n",
       "      <td>38.417000</td>\n",
       "      <td>-121.397424</td>\n",
       "    </tr>\n",
       "    <tr>\n",
       "      <th>984</th>\n",
       "      <td>3882 YELLOWSTONE LN</td>\n",
       "      <td>EL DORADO HILLS</td>\n",
       "      <td>95762</td>\n",
       "      <td>CA</td>\n",
       "      <td>3</td>\n",
       "      <td>2</td>\n",
       "      <td>1362</td>\n",
       "      <td>Residential</td>\n",
       "      <td>Thu May 15 00:00:00 EDT 2008</td>\n",
       "      <td>235738</td>\n",
       "      <td>38.655245</td>\n",
       "      <td>-121.075915</td>\n",
       "    </tr>\n",
       "  </tbody>\n",
       "</table>\n",
       "<p>814 rows × 12 columns</p>\n",
       "</div>"
      ],
      "text/plain": [
       "                  street             city    zip state  beds  baths  sq__ft  \\\n",
       "0           3526 HIGH ST       SACRAMENTO  95838    CA     2      1     836   \n",
       "1            51 OMAHA CT       SACRAMENTO  95823    CA     3      1    1167   \n",
       "2         2796 BRANCH ST       SACRAMENTO  95815    CA     2      1     796   \n",
       "3       2805 JANETTE WAY       SACRAMENTO  95815    CA     2      1     852   \n",
       "4        6001 MCMAHON DR       SACRAMENTO  95824    CA     2      1     797   \n",
       "..                   ...              ...    ...   ...   ...    ...     ...   \n",
       "980   9169 GARLINGTON CT       SACRAMENTO  95829    CA     4      3    2280   \n",
       "981      6932 RUSKUT WAY       SACRAMENTO  95823    CA     3      2    1477   \n",
       "982    7933 DAFFODIL WAY   CITRUS HEIGHTS  95610    CA     3      2    1216   \n",
       "983     8304 RED FOX WAY        ELK GROVE  95758    CA     4      2    1685   \n",
       "984  3882 YELLOWSTONE LN  EL DORADO HILLS  95762    CA     3      2    1362   \n",
       "\n",
       "            type                     sale_date   price   latitude   longitude  \n",
       "0    Residential  Wed May 21 00:00:00 EDT 2008   59222  38.631913 -121.434879  \n",
       "1    Residential  Wed May 21 00:00:00 EDT 2008   68212  38.478902 -121.431028  \n",
       "2    Residential  Wed May 21 00:00:00 EDT 2008   68880  38.618305 -121.443839  \n",
       "3    Residential  Wed May 21 00:00:00 EDT 2008   69307  38.616835 -121.439146  \n",
       "4    Residential  Wed May 21 00:00:00 EDT 2008   81900  38.519470 -121.435768  \n",
       "..           ...                           ...     ...        ...         ...  \n",
       "980  Residential  Thu May 15 00:00:00 EDT 2008  232425  38.457679 -121.359620  \n",
       "981  Residential  Thu May 15 00:00:00 EDT 2008  234000  38.499893 -121.458890  \n",
       "982  Residential  Thu May 15 00:00:00 EDT 2008  235000  38.708824 -121.256803  \n",
       "983  Residential  Thu May 15 00:00:00 EDT 2008  235301  38.417000 -121.397424  \n",
       "984  Residential  Thu May 15 00:00:00 EDT 2008  235738  38.655245 -121.075915  \n",
       "\n",
       "[814 rows x 12 columns]"
      ]
     },
     "execution_count": 6,
     "metadata": {},
     "output_type": "execute_result"
    }
   ],
   "source": [
    "#drop rows with '0'\n",
    "house_csv = house_csv[(house_csv[['beds','baths', 'sq__ft']] != 0).all(axis=1)]\n",
    "house_csv"
   ]
  },
  {
   "cell_type": "markdown",
   "metadata": {
    "colab_type": "text",
    "id": "kQ_sd0-VXWuo"
   },
   "source": [
    "### 2. Predict Price"
   ]
  },
  {
   "cell_type": "markdown",
   "metadata": {
    "colab_type": "text",
    "id": "BsxIS3qqXWuq"
   },
   "source": [
    "We are going to predict `price` from available information."
   ]
  },
  {
   "cell_type": "markdown",
   "metadata": {
    "colab_type": "text",
    "id": "l9DkEfzHXWur"
   },
   "source": [
    "#### 2.1 What is the Target Variable? Why?"
   ]
  },
  {
   "cell_type": "code",
   "execution_count": 7,
   "metadata": {
    "colab": {},
    "colab_type": "code",
    "id": "HGONOtfFXWut"
   },
   "outputs": [],
   "source": [
    "# ANSWER\n",
    "# price"
   ]
  },
  {
   "cell_type": "markdown",
   "metadata": {
    "colab_type": "text",
    "id": "MDAu8eeXXWuz"
   },
   "source": [
    "#### 2.2 List all possible variables which might be Independent/Predictor variable."
   ]
  },
  {
   "cell_type": "code",
   "execution_count": 8,
   "metadata": {
    "colab": {},
    "colab_type": "code",
    "id": "PEDRGP1EXWu1"
   },
   "outputs": [],
   "source": [
    "# ANSWER\n",
    "# sq__ft, beds, baths"
   ]
  },
  {
   "cell_type": "markdown",
   "metadata": {
    "colab_type": "text",
    "id": "w9x9iKhcXWu4"
   },
   "source": [
    "#### 2.3 Find correlation between variables\n",
    "\n",
    "Find correlation between variables. Which is the best predictor? Why? State your reason."
   ]
  },
  {
   "cell_type": "code",
   "execution_count": 9,
   "metadata": {
    "colab": {},
    "colab_type": "code",
    "id": "5OZ6kJeyXWu5"
   },
   "outputs": [
    {
     "data": {
      "text/html": [
       "<div>\n",
       "<style scoped>\n",
       "    .dataframe tbody tr th:only-of-type {\n",
       "        vertical-align: middle;\n",
       "    }\n",
       "\n",
       "    .dataframe tbody tr th {\n",
       "        vertical-align: top;\n",
       "    }\n",
       "\n",
       "    .dataframe thead th {\n",
       "        text-align: right;\n",
       "    }\n",
       "</style>\n",
       "<table border=\"1\" class=\"dataframe\">\n",
       "  <thead>\n",
       "    <tr style=\"text-align: right;\">\n",
       "      <th></th>\n",
       "      <th>zip</th>\n",
       "      <th>beds</th>\n",
       "      <th>baths</th>\n",
       "      <th>sq__ft</th>\n",
       "      <th>price</th>\n",
       "      <th>latitude</th>\n",
       "      <th>longitude</th>\n",
       "    </tr>\n",
       "  </thead>\n",
       "  <tbody>\n",
       "    <tr>\n",
       "      <th>zip</th>\n",
       "      <td>1.000000</td>\n",
       "      <td>-0.072673</td>\n",
       "      <td>-0.103332</td>\n",
       "      <td>-0.101560</td>\n",
       "      <td>-0.219591</td>\n",
       "      <td>-0.134134</td>\n",
       "      <td>-0.562983</td>\n",
       "    </tr>\n",
       "    <tr>\n",
       "      <th>beds</th>\n",
       "      <td>-0.072673</td>\n",
       "      <td>1.000000</td>\n",
       "      <td>0.654746</td>\n",
       "      <td>0.695710</td>\n",
       "      <td>0.441988</td>\n",
       "      <td>-0.107440</td>\n",
       "      <td>0.056713</td>\n",
       "    </tr>\n",
       "    <tr>\n",
       "      <th>baths</th>\n",
       "      <td>-0.103332</td>\n",
       "      <td>0.654746</td>\n",
       "      <td>1.000000</td>\n",
       "      <td>0.724631</td>\n",
       "      <td>0.501820</td>\n",
       "      <td>-0.081249</td>\n",
       "      <td>0.108081</td>\n",
       "    </tr>\n",
       "    <tr>\n",
       "      <th>sq__ft</th>\n",
       "      <td>-0.101560</td>\n",
       "      <td>0.695710</td>\n",
       "      <td>0.724631</td>\n",
       "      <td>1.000000</td>\n",
       "      <td>0.693708</td>\n",
       "      <td>-0.103287</td>\n",
       "      <td>0.135809</td>\n",
       "    </tr>\n",
       "    <tr>\n",
       "      <th>price</th>\n",
       "      <td>-0.219591</td>\n",
       "      <td>0.441988</td>\n",
       "      <td>0.501820</td>\n",
       "      <td>0.693708</td>\n",
       "      <td>1.000000</td>\n",
       "      <td>0.058475</td>\n",
       "      <td>0.278312</td>\n",
       "    </tr>\n",
       "    <tr>\n",
       "      <th>latitude</th>\n",
       "      <td>-0.134134</td>\n",
       "      <td>-0.107440</td>\n",
       "      <td>-0.081249</td>\n",
       "      <td>-0.103287</td>\n",
       "      <td>0.058475</td>\n",
       "      <td>1.000000</td>\n",
       "      <td>0.344431</td>\n",
       "    </tr>\n",
       "    <tr>\n",
       "      <th>longitude</th>\n",
       "      <td>-0.562983</td>\n",
       "      <td>0.056713</td>\n",
       "      <td>0.108081</td>\n",
       "      <td>0.135809</td>\n",
       "      <td>0.278312</td>\n",
       "      <td>0.344431</td>\n",
       "      <td>1.000000</td>\n",
       "    </tr>\n",
       "  </tbody>\n",
       "</table>\n",
       "</div>"
      ],
      "text/plain": [
       "                zip      beds     baths    sq__ft     price  latitude  \\\n",
       "zip        1.000000 -0.072673 -0.103332 -0.101560 -0.219591 -0.134134   \n",
       "beds      -0.072673  1.000000  0.654746  0.695710  0.441988 -0.107440   \n",
       "baths     -0.103332  0.654746  1.000000  0.724631  0.501820 -0.081249   \n",
       "sq__ft    -0.101560  0.695710  0.724631  1.000000  0.693708 -0.103287   \n",
       "price     -0.219591  0.441988  0.501820  0.693708  1.000000  0.058475   \n",
       "latitude  -0.134134 -0.107440 -0.081249 -0.103287  0.058475  1.000000   \n",
       "longitude -0.562983  0.056713  0.108081  0.135809  0.278312  0.344431   \n",
       "\n",
       "           longitude  \n",
       "zip        -0.562983  \n",
       "beds        0.056713  \n",
       "baths       0.108081  \n",
       "sq__ft      0.135809  \n",
       "price       0.278312  \n",
       "latitude    0.344431  \n",
       "longitude   1.000000  "
      ]
     },
     "execution_count": 9,
     "metadata": {},
     "output_type": "execute_result"
    }
   ],
   "source": [
    "# ANSWER\n",
    "\n",
    "#data <- dataframe name\n",
    "house_csv.corr() #shows linear r/s between 2 variables (-ve inverse relationship, +ve positive relationship)"
   ]
  },
  {
   "cell_type": "markdown",
   "metadata": {
    "colab_type": "text",
    "id": "tgWfh5snXWu8"
   },
   "source": [
    "#### 2.4 Find Coefficient and Intercept using Linear Regression\n",
    "\n",
    "Using LinearRegression of sklearn.linear_model package find Coefficient and Intercept.\n",
    "\n",
    "Create an instance of LinearRegression.\n",
    "\n",
    "Explore following methods:\n",
    "\n",
    "- fit\n",
    "- predict\n",
    "- score"
   ]
  },
  {
   "cell_type": "code",
   "execution_count": 10,
   "metadata": {
    "colab": {},
    "colab_type": "code",
    "id": "SbiQavKvXWu9"
   },
   "outputs": [],
   "source": [
    "from sklearn.linear_model import LinearRegression"
   ]
  },
  {
   "cell_type": "markdown",
   "metadata": {
    "colab_type": "text",
    "id": "lVWhSV7BXWu_"
   },
   "source": [
    "##### 2.4.1 Fit predictor and target variables using linear regression "
   ]
  },
  {
   "cell_type": "code",
   "execution_count": 11,
   "metadata": {
    "colab": {},
    "colab_type": "code",
    "id": "6cplIG9RXWvA"
   },
   "outputs": [],
   "source": [
    "# ANSWER\n",
    "\n",
    "X = house_csv['sq__ft'].values.reshape(-1,1) #.values.reshape(-1,1) reshapes the pandas series to a 2D dataframe\n",
    "Y = house_csv['price'] # \n",
    "#reshape to a (985, 1) array # -1 up there can change to 985"
   ]
  },
  {
   "cell_type": "code",
   "execution_count": 12,
   "metadata": {},
   "outputs": [
    {
     "data": {
      "text/plain": [
       "(814, 1)"
      ]
     },
     "execution_count": 12,
     "metadata": {},
     "output_type": "execute_result"
    }
   ],
   "source": [
    "X.shape"
   ]
  },
  {
   "cell_type": "code",
   "execution_count": 13,
   "metadata": {},
   "outputs": [
    {
     "data": {
      "text/plain": [
       "LinearRegression(n_jobs=1)"
      ]
     },
     "execution_count": 13,
     "metadata": {},
     "output_type": "execute_result"
    }
   ],
   "source": [
    "#fit the model\n",
    "lm = LinearRegression(n_jobs=1)\n",
    "lm.fit(X,Y) \n",
    "# .fit calculate the optimal values of the weights 𝑏₀ and 𝑏₁, using the existing input and output (x and y) as the arguments\n"
   ]
  },
  {
   "cell_type": "markdown",
   "metadata": {
    "colab_type": "text",
    "id": "0Qv0pyZNXWvC"
   },
   "source": [
    "##### 2.4.2 Find R Score"
   ]
  },
  {
   "cell_type": "markdown",
   "metadata": {
    "colab_type": "text",
    "id": "j5Lix6tlXWvD"
   },
   "source": [
    "Find $R^2$ Using ```score``` method of Linear Regression."
   ]
  },
  {
   "cell_type": "code",
   "execution_count": 14,
   "metadata": {
    "colab": {},
    "colab_type": "code",
    "id": "JrJDTlJrXWvF"
   },
   "outputs": [
    {
     "data": {
      "text/plain": [
       "0.4812307133326901"
      ]
     },
     "execution_count": 14,
     "metadata": {},
     "output_type": "execute_result"
    }
   ],
   "source": [
    "# ANSWER\n",
    "lm.score(X, Y)"
   ]
  },
  {
   "cell_type": "markdown",
   "metadata": {
    "colab_type": "text",
    "id": "BiVDrqFhXWvN"
   },
   "source": [
    "### 3. Splitting Data"
   ]
  },
  {
   "cell_type": "code",
   "execution_count": 15,
   "metadata": {
    "colab": {},
    "colab_type": "code",
    "id": "I4tgG88GXWvQ"
   },
   "outputs": [],
   "source": [
    "from sklearn.model_selection import train_test_split"
   ]
  },
  {
   "cell_type": "markdown",
   "metadata": {
    "colab_type": "text",
    "id": "hTgSdUpwXWvW"
   },
   "source": [
    "#### 3.1 Create training and testing subsets\n",
    "\n",
    "Hint: Using `train_test_split` Library.\n",
    "\n",
    "```\n",
    "X_train, X_test, y_train, y_test = train_test_split(X, y, test_size=0.33, random_state=42)\n",
    "```"
   ]
  },
  {
   "cell_type": "code",
   "execution_count": 16,
   "metadata": {
    "colab": {},
    "colab_type": "code",
    "id": "iYSlAV_gXWvX"
   },
   "outputs": [],
   "source": [
    "# ANSWER\n",
    "## Create training and testing subsets\n",
    "X_train, X_test, Y_train, Y_test = train_test_split(X, Y, test_size=0.33, random_state=42)"
   ]
  },
  {
   "cell_type": "markdown",
   "metadata": {
    "colab_type": "text",
    "id": "P62hTi0IXWva"
   },
   "source": [
    "#### 3.2 Check Shape, Sample of Test Train Data"
   ]
  },
  {
   "cell_type": "code",
   "execution_count": 17,
   "metadata": {
    "colab": {},
    "colab_type": "code",
    "id": "larfqlLQXWvb"
   },
   "outputs": [
    {
     "data": {
      "text/plain": [
       "(545, 1)"
      ]
     },
     "execution_count": 17,
     "metadata": {},
     "output_type": "execute_result"
    }
   ],
   "source": [
    "# ANSWER\n",
    "## Check training/test data\n",
    "X_train.shape"
   ]
  },
  {
   "cell_type": "code",
   "execution_count": 18,
   "metadata": {},
   "outputs": [
    {
     "data": {
      "text/plain": [
       "(269, 1)"
      ]
     },
     "execution_count": 18,
     "metadata": {},
     "output_type": "execute_result"
    }
   ],
   "source": [
    "X_test.shape"
   ]
  },
  {
   "cell_type": "markdown",
   "metadata": {
    "colab_type": "text",
    "id": "FhemsdjyXWvd"
   },
   "source": [
    "#### 3.3 Using Linear Regression Find The Score\n",
    "\n",
    "1. Fit model using X_train, y_train\n",
    "2. Find score using X_test, y_test"
   ]
  },
  {
   "cell_type": "code",
   "execution_count": 19,
   "metadata": {
    "colab": {},
    "colab_type": "code",
    "id": "yqNCjOW3XWve"
   },
   "outputs": [
    {
     "data": {
      "text/plain": [
       "LinearRegression(n_jobs=1)"
      ]
     },
     "execution_count": 19,
     "metadata": {},
     "output_type": "execute_result"
    }
   ],
   "source": [
    "# ANSWER\n",
    "lm.fit(X_train, Y_train)"
   ]
  },
  {
   "cell_type": "code",
   "execution_count": 20,
   "metadata": {
    "colab": {},
    "colab_type": "code",
    "id": "rT5Qvx_pXWvi"
   },
   "outputs": [
    {
     "data": {
      "text/plain": [
       "0.44917703281062393"
      ]
     },
     "execution_count": 20,
     "metadata": {},
     "output_type": "execute_result"
    }
   ],
   "source": [
    "# ANSWER\n",
    "lm.score(X_test, Y_test) #r^2 of sq ft and price \n",
    "#[r^2 = output = % of variability can be explained with sqft e.g. can only explain 44% of increase in price]"
   ]
  },
  {
   "cell_type": "markdown",
   "metadata": {
    "colab_type": "text",
    "id": "wSAtgNXXXWvk"
   },
   "source": [
    "### 4. Predict House Price\n",
    "\n",
    "Let's assume we have information of following house:\n",
    "\n",
    "- street:\t1140 EDMONTON DR\n",
    "- city:\tSACRAMENTO\n",
    "- zip:\t95833\n",
    "- state:\tCA\n",
    "- beds:\t3\n",
    "- baths:\t2\n",
    "- sq__ft:\t1204\n",
    "- type:\tResidential\n",
    "\n",
    "**Predict the price of this house using linear regression model.**"
   ]
  },
  {
   "cell_type": "code",
   "execution_count": 28,
   "metadata": {
    "colab": {},
    "colab_type": "code",
    "id": "zwMk_GoVXWvk"
   },
   "outputs": [
    {
     "data": {
      "text/plain": [
       "array([180971.28382945])"
      ]
     },
     "execution_count": 28,
     "metadata": {},
     "output_type": "execute_result"
    }
   ],
   "source": [
    "# ANSWER\n",
    "\n",
    "X = house_csv['sq__ft'].values.reshape(-1,1) \n",
    "Y = house_csv['price'] \n",
    "\n",
    "model1 = LinearRegression().fit(X,Y)\n",
    "\n",
    "pred = [[1204]]\n",
    "y_pred = model1.predict(pred)\n",
    "y_pred\n",
    "\n",
    "#write own dataframe and then predict"
   ]
  },
  {
   "cell_type": "markdown",
   "metadata": {},
   "source": [
    "#### Find the error"
   ]
  },
  {
   "cell_type": "code",
   "execution_count": 29,
   "metadata": {},
   "outputs": [
    {
     "data": {
      "text/plain": [
       "6863202480.981789"
      ]
     },
     "execution_count": 29,
     "metadata": {},
     "output_type": "execute_result"
    }
   ],
   "source": [
    "# Predict price from X_test\n",
    "\n",
    "#find error here\n",
    "\n",
    "# Predict price from X_test\n",
    "\n",
    "y_pred = model1.predict(X_test)\n",
    "\n",
    "y_pred[:10]\n",
    "\n",
    "from sklearn.metrics import mean_squared_error\n",
    "\n",
    "mean_squared_error(Y_test, y_pred, squared=True)\n",
    "\n"
   ]
  },
  {
   "cell_type": "code",
   "execution_count": 30,
   "metadata": {},
   "outputs": [
    {
     "data": {
      "text/plain": [
       "array([130232.97874597, 172745.34018695, 125095.53325462, 132287.95694252,\n",
       "       125223.9693919 , 166965.71400917, 164653.86353806, 174029.70155979,\n",
       "       143718.77316078, 170048.18130399, 139608.8167677 , 188414.54893558,\n",
       "       134728.24355091, 153865.22800621, 154122.10028078, 168506.94765658,\n",
       "       131260.46784425, 124967.09711733,  98380.81669956, 197019.77013361,\n",
       "       166451.96946004, 193551.99442694, 182121.17820867, 228486.62376816,\n",
       "       138581.32766943, 162598.88534152, 146544.36818103, 166580.40559732,\n",
       "       200102.23742842, 183148.66730694, 156305.51461461, 170818.79812769,\n",
       "       200102.23742842, 166195.09718547, 156305.51461461, 204982.81064521,\n",
       "       161828.26851782, 211918.36205854, 170048.18130399, 120471.8323124 ,\n",
       "       190341.09099484, 177882.7856783 , 158488.92894843, 156819.25916374,\n",
       "       226688.51784619, 166708.8417346 , 225789.4648852 , 273953.01636667,\n",
       "       235550.61131878, 212560.54274496, 175442.49906991, 227073.82625804,\n",
       "       210762.43682298, 242999.90728125, 175057.19065806, 203441.5769978 ,\n",
       "       272411.78271926, 173387.52087337, 170818.79812769, 260595.65808914,\n",
       "       178910.27477658, 167993.20310744, 228743.49604273, 212817.41501953,\n",
       "       205239.68291978, 187258.62370003, 226560.08170891, 197790.38695731,\n",
       "       300539.29678444, 185460.51777805, 243128.34341853, 256614.13783334,\n",
       "       143076.59247436, 216927.37141261, 227073.82625804, 227844.44308174,\n",
       "       195093.22807435, 297199.95721506, 230413.16582742, 212688.97888224,\n",
       "       188157.67666102, 186873.31528818, 208835.89476373, 309915.13480616,\n",
       "       291677.20331185, 176084.67975633, 300667.73292172, 185845.82618991,\n",
       "       145902.18749461, 344978.20028467, 190469.52713213, 227202.26239532,\n",
       "       193166.68601509, 259568.16899087, 269586.18769901, 381197.19099873,\n",
       "       220780.45553113, 153608.35573165, 237605.58951532, 200102.23742842,\n",
       "       148085.60182844, 327510.88561406, 208579.02248916, 187772.36824916,\n",
       "       409324.70506391, 486771.6958461 , 286925.06623234, 278833.58958346,\n",
       "       261366.27491284, 167479.45855831, 307089.53978592, 343180.09436269,\n",
       "       259568.16899087, 218083.29664817, 382481.55237157, 319419.40896517,\n",
       "       326868.70492764, 474441.82666685, 268687.13473803, 239917.43998643,\n",
       "       372848.84207528, 325199.03514295, 303493.32794197, 254173.85122495,\n",
       "       274723.63319037, 425379.2222244 , 268815.57087531, 374004.76731083,\n",
       "       293860.61764567, 429232.30634291, 485102.02606141, 286668.19395777,\n",
       "       257898.49920618, 231825.96333755, 464680.68023327, 388389.61468663,\n",
       "       325841.21582937, 286411.32168321, 463781.62727228, 487157.00425796,\n",
       "       367968.26885849, 372720.40593799, 464680.68023327, 473414.33756858,\n",
       "       339070.13796961, 321474.38716171, 124967.09711733, 164011.68285164,\n",
       "       130746.72329511, 125609.27780375, 118673.72639042, 159901.72645856,\n",
       "       191882.32464225, 194579.48352521, 134342.93513906, 141535.35882696,\n",
       "       101206.41171981, 179552.45546299, 115591.25909561, 233880.94153409,\n",
       "       115591.25909561, 161571.39624325, 156305.51461461, 157846.74826201,\n",
       "       147058.11273017, 163883.24671436, 157718.31212473, 165424.48036176,\n",
       "       136911.65788474, 166708.8417346 , 161571.39624325, 145773.75135733,\n",
       "       145131.57067091, 178396.53022744, 185203.64550349, 161571.39624325,\n",
       "       185460.51777805, 150525.88843683, 177240.60499188, 115591.25909561,\n",
       "       208835.89476373, 175442.49906991, 174800.31838349, 192396.06919139,\n",
       "       166323.53332275, 198047.25923188, 191111.70781855, 152067.12208424,\n",
       "       164653.86353806, 126893.63917659, 167094.15014646, 138966.63608128,\n",
       "       171332.54267682, 192524.50532867, 201643.47107583, 207679.96952817,\n",
       "       171717.85108868, 237477.15337804, 246339.24685063, 185332.08164077,\n",
       "       152195.55822152, 243256.77955581, 239275.25930001, 257770.0630689 ,\n",
       "       222578.5614531 , 166708.8417346 , 168892.25606843, 173644.39314793,\n",
       "       201771.90721311, 188414.54893558, 253916.97895038, 273696.1440921 ,\n",
       "       115719.69523289, 144617.82612177, 225532.59261063, 192010.76077953,\n",
       "       197533.51468274, 218340.16892274, 247752.04436075, 211019.30909755,\n",
       "       229000.3683173 , 212303.67047039, 179038.71091386, 191753.88850497,\n",
       "       224119.79510051, 250962.94779285, 303750.20021653, 188671.42121015,\n",
       "       215899.88231434, 342794.78595084, 185845.82618991, 173901.2654225 ,\n",
       "       209863.383862  , 215257.70162792, 225018.8480615 , 290649.71421358,\n",
       "       301566.78588271, 227716.00694446, 224119.79510051, 183790.84799336,\n",
       "       249935.45869458, 283585.72666296, 219496.09415829, 235165.30290693,\n",
       "       286925.06623234, 343180.09436269, 209092.76703829, 301438.34974542,\n",
       "       207808.40566545, 218982.34960915, 202799.39631138, 204083.75768422,\n",
       "       187772.36824916, 319162.5366906 , 193551.99442694, 268173.39018889,\n",
       "       277292.35593605, 306062.05068764, 208964.33090101, 184433.02867978,\n",
       "       353583.42148269,  92087.44597265, 306447.3590995 , 165167.6080872 ,\n",
       "       227716.00694446, 300153.98837258, 317621.3030432 , 258925.98830445,\n",
       "       266889.02881605, 243513.65183038, 458130.43723179, 441562.17552217,\n",
       "       281787.62074099, 357693.37787578, 372720.40593799, 503982.13824215,\n",
       "       432828.51818686, 183020.23116966, 354354.03830639, 288466.29987975,\n",
       "       535577.42801399, 459157.92633006, 521321.01677548, 228101.31535631,\n",
       "       270613.67679729, 417159.30943823, 534549.93891572, 308245.46502147,\n",
       "       515798.26287227, 388389.61468663, 341895.73298986, 231440.65492569,\n",
       "       130746.72329511,  85023.45842204, 147443.42114202, 102876.0815045 ,\n",
       "       142562.84792523, 125095.53325462, 129976.10647141, 129976.10647141,\n",
       "       141535.35882696, 124967.09711733, 183405.53958151, 149241.52706399,\n",
       "       152966.17504523, 152837.73890794, 124967.09711733, 140764.74200325,\n",
       "       161828.26851782, 146672.80431831, 203184.70472323, 103132.95377907,\n",
       "       136911.65788474, 166708.8417346 , 193808.86670151, 153094.61118251,\n",
       "       208835.89476373, 146929.67659288, 122912.11892079, 130232.97874597,\n",
       "       164140.11898893, 173644.39314793, 177882.7856783 , 279090.46185802,\n",
       "       126123.02235289, 145902.18749461, 198304.13150645, 138581.32766943,\n",
       "       112251.91952623, 161571.39624325, 164653.86353806, 147700.29341659,\n",
       "       201386.59880126, 196762.89785904, 124967.09711733, 123040.55505807,\n",
       "       226688.51784619, 178139.65795287, 169149.128343  , 239917.43998643,\n",
       "       182763.35889509, 204725.93837064, 189827.34644571, 166708.8417346 ,\n",
       "       227073.82625804, 203570.01313509, 217569.55209903, 234266.24994594,\n",
       "       238119.33406446, 198817.87605558, 198817.87605558, 196377.58944719,\n",
       "       170818.79812769, 209349.63931286, 150012.1438877 , 172103.15950053,\n",
       "       174671.88224621, 165681.35263633, 164140.11898893, 187258.62370003,\n",
       "       187258.62370003, 156305.51461461, 171717.85108868, 269072.44314988,\n",
       "       218083.29664817, 177497.47726645, 166708.8417346 , 207294.66111632,\n",
       "       209221.20317558, 233238.76084767, 151296.50526053, 170818.79812769,\n",
       "       171075.67040226, 196634.46172175, 193551.99442694, 197019.77013361,\n",
       "       216156.75458891, 152452.43049609, 169791.30902942, 142305.97565066,\n",
       "       249678.58642001, 272026.47430741, 250962.94779285, 184433.02867978,\n",
       "       263292.8169721 , 165681.35263633, 261237.83877556, 271898.03817012,\n",
       "       151039.63298597, 248651.09732174, 297970.57403876, 144874.69839634,\n",
       "       246210.81071334, 217569.55209903, 149755.27161313, 222578.5614531 ,\n",
       "       178524.96636472, 263164.38083482, 190084.21872028, 119958.08776326,\n",
       "       283071.98211383, 199460.056742  , 183405.53958151, 158745.801223  ,\n",
       "       175314.06293263, 192909.81374052, 271512.72975827, 328795.2469869 ,\n",
       "       206138.73588076, 238376.20633902, 253788.54281309, 363473.00405355,\n",
       "       256100.3932842 , 417929.92626193, 259696.60512815, 190597.96326941,\n",
       "       337143.59591035, 173901.2654225 , 174671.88224621, 171846.28722596,\n",
       "       205753.42746891, 225018.8480615 , 257898.49920618, 244284.26865408,\n",
       "       184047.72026793, 302208.96656913, 267402.77336519, 255072.90418593,\n",
       "       371050.7361533 , 242871.47114396, 209991.81999928, 372720.40593799,\n",
       "       211404.6175094 , 350372.51805059, 270485.24066   , 269714.6238363 ,\n",
       "       195350.10034892, 216798.93527533, 146159.05976918, 223092.30600224,\n",
       "       231440.65492569, 407141.29073008, 293732.18150839, 218597.0411973 ,\n",
       "       183148.66730694, 263806.56152124, 260595.65808914, 307731.72047234,\n",
       "       201900.34335039, 203955.32154694, 468276.89207722, 324171.54604468,\n",
       "       324299.98218196, 235935.91973063, 336501.41522393, 299640.24382345,\n",
       "       255329.7764605 , 381068.75486145, 229128.80445458, 301053.04133357,\n",
       "       263164.38083482, 254045.41508766, 239018.38702544, 227844.44308174,\n",
       "       174286.57383435, 233367.19698495, 444259.33440513, 240816.49294742,\n",
       "       290649.71421358, 246852.99139976, 271898.03817012, 252504.18144025,\n",
       "       240045.87612372, 279989.51481901, 575521.06670929, 568200.2068841 ,\n",
       "       314924.14416023, 415361.20351625, 344336.01959825, 267531.20950247,\n",
       "       192396.06919139, 412920.91690786, 503339.95755573, 364500.49315182,\n",
       "       454020.48083871, 394811.42155083, 282943.54597654, 509376.45600807,\n",
       "       494220.99180857, 172616.90404966, 130489.85102054, 138966.63608128,\n",
       "       155406.46165362, 138966.63608128, 161571.39624325, 150012.1438877 ,\n",
       "       138452.89153214, 133443.88217807, 139223.50835585, 152709.30277066,\n",
       "       162727.3214788 , 129719.23419684, 125609.27780375, 188799.85734744,\n",
       "       126893.63917659, 159516.4180467 , 139865.68904227, 131517.34011881,\n",
       "       192396.06919139, 203955.32154694, 166066.66104818, 173002.21246152,\n",
       "       172360.0317751 , 195093.22807435, 179424.01932571, 167607.89469559,\n",
       "       186231.13460176, 183790.84799336, 166708.8417346 , 166451.96946004,\n",
       "       265604.66744321, 184689.90095435, 202670.9601741 , 185203.64550349,\n",
       "       159002.67349757, 168250.07538201, 211147.74523484, 163112.62989065,\n",
       "       231954.39947483, 146159.05976918, 160929.21555683, 206267.17201805,\n",
       "       197276.64240817, 340739.8077543 , 203955.32154694, 242614.59886939,\n",
       "       213331.15956866, 169277.56448028, 221807.9446294 , 203955.32154694,\n",
       "       182121.17820867, 242743.03500668, 225789.4648852 , 237220.28110347,\n",
       "       155021.15324177, 164525.42740078, 300410.86064715, 234779.99449508,\n",
       "       192396.06919139, 176983.73271732, 173130.6485988 , 176855.29658003,\n",
       "       240559.62067285, 171460.97881411, 203955.32154694, 173644.39314793,\n",
       "       227459.13466989, 163241.06602794, 250192.33096914, 207294.66111632,\n",
       "       167222.58628374, 169149.128343  , 233238.76084767, 193423.55828966,\n",
       "       186359.57073904, 161828.26851782, 225532.59261063, 125095.53325462,\n",
       "       200872.85425212, 209349.63931286, 217184.24368718, 225532.59261063,\n",
       "       245825.50230149, 212046.79819582, 170561.92585312, 167607.89469559,\n",
       "       169791.30902942, 147700.29341659, 319034.10055332, 212817.41501953,\n",
       "       156433.95075189, 206524.04429262, 254045.41508766, 273696.1440921 ,\n",
       "       166708.8417346 , 181093.6891104 , 149241.52706399, 321988.13171085,\n",
       "       196377.58944719, 199588.49287928, 189827.34644571, 223991.35896323,\n",
       "       166066.66104818, 155406.46165362, 205111.24678249, 184818.33709163,\n",
       "       233110.32471038, 250962.94779285, 194707.9196625 , 312355.42141456,\n",
       "       207936.84180274, 278576.71730889, 295915.59584222, 163369.50216522,\n",
       "       210634.0006857 , 312869.16596369, 160800.77941954, 293989.05378296,\n",
       "       239403.6954373 , 268815.57087531, 326868.70492764, 274852.06932765,\n",
       "       203441.5769978 , 252632.61757754, 263806.56152124, 181478.99752225,\n",
       "       344464.45573553, 238119.33406446, 198432.56764373, 266760.59267877,\n",
       "       232981.8885731 , 257641.62693161, 207551.53339089, 209221.20317558,\n",
       "       218083.29664817, 216285.19072619, 357436.50560121, 176469.98816818,\n",
       "       231055.34651384, 255458.21259778, 220652.01939385, 221037.3278057 ,\n",
       "       343180.09436269, 234779.99449508, 307217.9759232 , 315694.76098394,\n",
       "       208193.71407731, 226046.33715977, 261366.27491284, 245697.06616421,\n",
       "       292062.5117237 , 243770.52410495, 300282.42450987, 200359.10970299,\n",
       "       243898.96024223, 193423.55828966, 277420.79207333, 169791.30902942,\n",
       "       231312.21878841, 209991.81999928, 351014.69873701, 225404.15647335,\n",
       "       355766.83581652, 202799.39631138, 215771.44617706, 193295.12215237,\n",
       "       254045.41508766, 301438.34974542, 338427.95728319, 280246.38709358,\n",
       "       306961.10364863, 425379.2222244 , 197533.51468274, 186744.87915089,\n",
       "       403288.20661156, 265347.79516865, 221679.50849212, 293732.18150839,\n",
       "       341895.73298986, 312869.16596369, 306961.10364863, 230413.16582742,\n",
       "       327510.88561406, 357564.94173849, 392371.13494243, 403031.334337  ,\n",
       "       301823.65815728, 292576.25627283, 253403.23440124, 317621.3030432 ,\n",
       "       353840.29375726, 244669.57706594, 213588.03184323, 235422.17518149,\n",
       "       286026.01327135, 392114.26266786, 305291.43386394, 190341.09099484,\n",
       "       322630.31239727, 315437.88870937, 214615.5209415 , 380811.88258688,\n",
       "       385564.01966638, 441690.61165945, 286539.75782049, 328409.93857504,\n",
       "       430388.23157847, 195992.28103533, 183662.41185608, 437580.65526637,\n",
       "       519009.16630437, 325455.90741751, 482533.30331574, 587979.37202582,\n",
       "       770615.55924354, 217055.8075499 , 101334.84785709, 135370.42423733,\n",
       "       142691.28406251, 133829.19058992, 152709.30277066, 171589.41495139,\n",
       "       163112.62989065, 145645.31522004, 169149.128343  , 158745.801223  ,\n",
       "       156433.95075189, 196762.89785904, 157846.74826201, 110453.81360425,\n",
       "       171974.72336324, 151810.24980967, 180708.38069855, 183277.10344423,\n",
       "       171974.72336324, 152580.86663337, 210634.0006857 , 185845.82618991,\n",
       "       175442.49906991, 224505.10351236, 163241.06602794, 146415.93204375,\n",
       "       162727.3214788 , 167607.89469559, 190983.27168126, 147443.42114202,\n",
       "       169791.30902942, 151296.50526053, 177754.34954102, 187900.80438645,\n",
       "       221037.3278057 , 136397.9133356 , 153736.79186893, 201643.47107583,\n",
       "       141535.35882696, 179167.14705114, 237348.71724075, 190084.21872028,\n",
       "       213973.34025508, 199203.18446743, 200230.6735657 , 185332.08164077,\n",
       "       136012.60492375, 229385.67672915, 195478.5364862 , 177240.60499188,\n",
       "       164653.86353806, 261623.14718741, 181093.6891104 , 233238.76084767,\n",
       "       174029.70155979, 226046.33715977, 138966.63608128, 194964.79193706,\n",
       "       177497.47726645, 212560.54274496, 215129.26549064, 146159.05976918,\n",
       "       206267.17201805, 156305.51461461, 219239.22188372, 265861.53971778,\n",
       "       265219.35903136, 189056.729622  , 233238.76084767, 238247.77020174,\n",
       "       160672.34328226, 180965.25297312, 173772.82928522, 204725.93837064,\n",
       "       197276.64240817, 229514.11286644, 275622.68615136, 162727.3214788 ,\n",
       "       189313.60189657, 175570.93520719, 124967.09711733, 198946.31219286,\n",
       "       191111.70781855, 184946.77322892, 246339.24685063, 217697.98823632,\n",
       "       209092.76703829, 204725.93837064, 136911.65788474, 264577.17834494,\n",
       "       190084.21872028, 204982.81064521, 192267.6330541 , 250192.33096914,\n",
       "       231825.96333755, 156433.95075189, 146159.05976918, 209863.383862  ,\n",
       "       209092.76703829, 197276.64240817, 193551.99442694, 243128.34341853,\n",
       "       184946.77322892, 315694.76098394, 212560.54274496, 179038.71091386,\n",
       "       239275.25930001, 197790.38695731])"
      ]
     },
     "execution_count": 30,
     "metadata": {},
     "output_type": "execute_result"
    }
   ],
   "source": [
    "pred_price_model = LinearRegression().fit(X_test,Y_test) #use x & y test data into the model to train it\n",
    "pred_price = pred_price_model.predict(X) # pass X through model to get predicted price\n",
    "pred_price"
   ]
  },
  {
   "cell_type": "markdown",
   "metadata": {
    "colab_type": "text",
    "id": "fRx7LEfql5pu"
   },
   "source": [
    "\n",
    "\n",
    "---\n",
    "\n",
    "\n",
    "\n",
    "---\n",
    "\n",
    "\n",
    "\n",
    "> > > > > > > > > © 2021 Institute of Data\n",
    "\n",
    "\n",
    "---\n",
    "\n",
    "\n",
    "\n",
    "---\n",
    "\n",
    "\n",
    "\n"
   ]
  }
 ],
 "metadata": {
  "colab": {
   "collapsed_sections": [],
   "name": "DSIA Lab 4.1.2.ipynb",
   "provenance": []
  },
  "kernelspec": {
   "display_name": "Python 3",
   "language": "python",
   "name": "python3"
  },
  "language_info": {
   "codemirror_mode": {
    "name": "ipython",
    "version": 3
   },
   "file_extension": ".py",
   "mimetype": "text/x-python",
   "name": "python",
   "nbconvert_exporter": "python",
   "pygments_lexer": "ipython3",
   "version": "3.8.8"
  }
 },
 "nbformat": 4,
 "nbformat_minor": 1
}
